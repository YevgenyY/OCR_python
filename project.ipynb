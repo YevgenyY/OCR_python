{
 "cells": [
  {
   "cell_type": "markdown",
   "metadata": {},
   "source": [
    "# The Project #\n",
    "1. This is a project with minimal scaffolding. Expect to use the the discussion forums to gain insights! It’s not cheating to ask others for opinions or perspectives!\n",
    "2. Be inquisitive, try out new things.\n",
    "3. Use the previous modules for insights into how to complete the functions! You'll have to combine Pillow, OpenCV, and Pytesseract\n",
    "4. There are hints provided in Coursera, feel free to explore the hints if needed. Each hint provide progressively more details on how to solve the issue. This project is intended to be comprehensive and difficult if you do it without the hints.\n",
    "\n",
    "### The Assignment ###\n",
    "Take a [ZIP file](https://en.wikipedia.org/wiki/Zip_(file_format)) of images and process them, using a [library built into python](https://docs.python.org/3/library/zipfile.html) that you need to learn how to use. A ZIP file takes several different files and compresses them, thus saving space, into one single file. The files in the ZIP file we provide are newspaper images (like you saw in week 3). Your task is to write python code which allows one to search through the images looking for the occurrences of keywords and faces. E.g. if you search for \"pizza\" it will return a contact sheet of all of the faces which were located on the newspaper page which mentions \"pizza\". This will test your ability to learn a new ([library](https://docs.python.org/3/library/zipfile.html)), your ability to use OpenCV to detect faces, your ability to use tesseract to do optical character recognition, and your ability to use PIL to composite images together into contact sheets.\n",
    "\n",
    "Each page of the newspapers is saved as a single PNG image in a file called [images.zip](./readonly/images.zip). These newspapers are in english, and contain a variety of stories, advertisements and images. Note: This file is fairly large (~200 MB) and may take some time to work with, I would encourage you to use [small_img.zip](./readonly/small_img.zip) for testing.\n",
    "\n",
    "Here's an example of the output expected. Using the [small_img.zip](./readonly/small_img.zip) file, if I search for the string \"Christopher\" I should see the following image:\n",
    "![Christopher Search](./readonly/small_project.png)\n",
    "If I were to use the [images.zip](./readonly/images.zip) file and search for \"Mark\" I should see the following image (note that there are times when there are no faces on a page, but a word is found!):\n",
    "![Mark Search](./readonly/large_project.png)\n",
    "\n",
    "Note: That big file can take some time to process - for me it took nearly ten minutes! Use the small one for testing."
   ]
  },
  {
   "cell_type": "code",
   "execution_count": 9,
   "metadata": {
    "scrolled": true
   },
   "outputs": [],
   "source": [
    "from zipfile import ZipFile\n",
    "\n",
    "from PIL import Image\n",
    "from PIL import ImageDraw\n",
    "from kraken import pageseg\n",
    "import pytesseract \n",
    "import cv2 as cv\n",
    "import numpy as np\n",
    "\n",
    "# loading the face detection classifier\n",
    "face_cascade = cv.CascadeClassifier('readonly/haarcascade_frontalface_default.xml')\n",
    "# the rest is up to you!\n",
    "\n",
    "# A global list of dictionary objects PIL_Image, bounding boxes, text\n",
    "gl = []\n",
    "\n",
    "#debug\n",
    "#image = Image.open(\"readonly/text.png\")\n",
    "#text = pytesseract.image_to_string(image)\n",
    "#print(text)\n",
    "#image.close()"
   ]
  },
  {
   "cell_type": "markdown",
   "metadata": {},
   "source": [
    "### Some useful functions"
   ]
  },
  {
   "cell_type": "code",
   "execution_count": 33,
   "metadata": {},
   "outputs": [],
   "source": [
    "def face_detect(pil_img):\n",
    "    '''\n",
    "    takes an image, finds the faces on it (if any), and returns a list of coordinate-tuples that bound the faces found\n",
    "    \n",
    "    :param: a PIL.Image object\n",
    "    \n",
    "    :returns: a list, containing 4-tuples\n",
    "    '''\n",
    "    boxes = []\n",
    "    \n",
    "    # convert img from PIL format into opencv\n",
    "    cv2_image_gray = cv.cvtColor(np.array(pil_img), cv.COLOR_BGR2GRAY)\n",
    "    \n",
    "    faces = face_cascade.detectMultiScale(cv2_image_gray, scaleFactor =1.3, minNeighbors = 5).tolist()\n",
    "    \n",
    "    if (len(faces) > 0):\n",
    "        for (x, y, w, h) in faces:\n",
    "            boxes.append([x, y, x+w, y+h])\n",
    "    \n",
    "    return boxes"
   ]
  },
  {
   "cell_type": "markdown",
   "metadata": {},
   "source": [
    "Go through the zip archive"
   ]
  },
  {
   "cell_type": "code",
   "execution_count": 29,
   "metadata": {},
   "outputs": [],
   "source": [
    "small_file = 'readonly/small_img.zip'\n",
    "big_file = 'readonly/images.zip'\n",
    "\n",
    "\n",
    "def search(zipfile=small_file, word='Christopher'):\n",
    "    zf = ZipFile(zipfile, mode='r')\n",
    "    \n",
    "    search_word = word.lower()\n",
    "\n",
    "    for el in zf.infolist():\n",
    "        with zf.open(el) as file:\n",
    "            img = Image.open(file)\n",
    "        \n",
    "            # debug\n",
    "            #print(img.size, img.mode, len(img.getdata()))\n",
    "            #display(img)\n",
    "            #print(file.name)\n",
    "        \n",
    "            # process OCR\n",
    "            text = pytesseract.image_to_string(img).lower()\n",
    "            print(text[:16])\n",
    "       \n",
    "            if (search_word in text):\n",
    "                print(\"Found search_word {}\".format(search_word))\n",
    "                # create a dictionary object\n",
    "                boxes = face_detect(img)\n",
    "        \n",
    "                new_entry = {\"name\":file.name, \"image\":img.copy(), \"boxes\":boxes, \"text\":text}\n",
    "        \n",
    "                gl.append(new_entry)\n",
    "            \n"
   ]
  },
  {
   "cell_type": "code",
   "execution_count": 34,
   "metadata": {},
   "outputs": [
    {
     "name": "stdout",
     "output_type": "stream",
     "text": [
      " \n",
      "\n",
      "ann arbor, mi\n",
      "Found search_word christopher\n",
      "2a — wednesday, \n",
      "the michigan dai\n",
      "4a, 5a — wednesd\n",
      "Found search_word christopher\n"
     ]
    }
   ],
   "source": [
    "search()"
   ]
  },
  {
   "cell_type": "code",
   "execution_count": 35,
   "metadata": {},
   "outputs": [
    {
     "ename": "AttributeError",
     "evalue": "'dict' object has no attribute 'boxes'",
     "output_type": "error",
     "traceback": [
      "\u001b[0;31m---------------------------------------------------------------------------\u001b[0m",
      "\u001b[0;31mAttributeError\u001b[0m                            Traceback (most recent call last)",
      "Input \u001b[0;32mIn [35]\u001b[0m, in \u001b[0;36m<cell line: 1>\u001b[0;34m()\u001b[0m\n\u001b[0;32m----> 1\u001b[0m \u001b[38;5;28mprint\u001b[39m(\u001b[43mgl\u001b[49m\u001b[43m[\u001b[49m\u001b[38;5;241;43m0\u001b[39;49m\u001b[43m]\u001b[49m\u001b[38;5;241;43m.\u001b[39;49m\u001b[43mboxes\u001b[49m)\n",
      "\u001b[0;31mAttributeError\u001b[0m: 'dict' object has no attribute 'boxes'"
     ]
    }
   ],
   "source": [
    "print(gl[0]boxes)"
   ]
  },
  {
   "cell_type": "code",
   "execution_count": 16,
   "metadata": {},
   "outputs": [],
   "source": [
    "for el in gl:\n",
    "    print(el['name'])\n",
    "        \n",
    "    print(\"----------- OCR text -----------------------\")\n",
    "    #text = pytesseract.image_to_string(el[\"image\"])\n",
    "    print(el['text'][:128])\n",
    "    \n",
    "    # To test this, lets use display\n",
    "    # display(show_boxes(el['image'].convert('1')))\n",
    "    # break"
   ]
  },
  {
   "cell_type": "code",
   "execution_count": null,
   "metadata": {},
   "outputs": [],
   "source": []
  },
  {
   "cell_type": "code",
   "execution_count": 3,
   "metadata": {},
   "outputs": [
    {
     "name": "stdout",
     "output_type": "stream",
     "text": [
      "a-0.png\n",
      "----------- OCR text -----------------------\n",
      " \n",
      "\n",
      "ann arbor, michigan\n",
      "\n",
      "wednesday, november 5, 2014\n",
      "\n",
      "che michigan daily\n",
      "\n",
      "michigandaily.com\n",
      "\n",
      "big day for republicans\n",
      "\n",
      "snyder earn\n",
      "a-1.png\n",
      "----------- OCR text -----------------------\n",
      "2a — wednesday, november 5, 2014\n",
      "\n",
      "students vote, watch midterm election 2014\n",
      "\n",
      "the michigan daily — michigandaily.com\n",
      "\n",
      " \n",
      "\n",
      "che mic\n",
      "a-2.png\n",
      "----------- OCR text -----------------------\n",
      "the michigan daily — michigandaily.com\n",
      "\n",
      "page 3a — wednesday, november 5, 2014\n",
      "\n",
      " \n",
      "\n",
      "che michigan daily\n",
      "\n",
      "  \n",
      "\n",
      "bic\n",
      "\n",
      "oe\n",
      "\n",
      "— # eit :\n",
      "cae\n",
      "a-3.png\n",
      "----------- OCR text -----------------------\n",
      "4a, 5a — wednesday, november 5, 2014\n",
      "\n",
      "the michigan daily — michigandaily.com\n",
      "\n",
      " \n",
      "\n",
      " \n",
      "\n",
      "luna anna archey/daily\n",
      "\n",
      "ann arbor mayor elec\n"
     ]
    }
   ],
   "source": [
    "zf.close()"
   ]
  }
 ],
 "metadata": {
  "anaconda-cloud": {},
  "kernelspec": {
   "display_name": "Python 3 (ipykernel)",
   "language": "python",
   "name": "python3"
  },
  "language_info": {
   "codemirror_mode": {
    "name": "ipython",
    "version": 3
   },
   "file_extension": ".py",
   "mimetype": "text/x-python",
   "name": "python",
   "nbconvert_exporter": "python",
   "pygments_lexer": "ipython3",
   "version": "3.8.10"
  }
 },
 "nbformat": 4,
 "nbformat_minor": 2
}
